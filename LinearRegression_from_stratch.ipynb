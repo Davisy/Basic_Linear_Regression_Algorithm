{
 "cells": [
  {
   "cell_type": "code",
   "execution_count": 15,
   "metadata": {},
   "outputs": [],
   "source": [
    "#import module\n",
    "from statistics import mean\n",
    "import numpy as np\n",
    "import matplotlib.pyplot as plt \n",
    "from matplotlib import style\n",
    "import pickle\n",
    "import random \n",
    "    \n",
    "style.use('fivethirtyeight')"
   ]
  },
  {
   "cell_type": "code",
   "execution_count": 16,
   "metadata": {},
   "outputs": [],
   "source": [
    "#xs =  np.array([1,2,3,4,5,6], dtype=np.float64)\n",
    "#ys = np.array([5,4,6,5,6,7], dtype=np.float64)"
   ]
  },
  {
   "cell_type": "code",
   "execution_count": 18,
   "metadata": {},
   "outputs": [],
   "source": [
    "#function to create dataset\n",
    "def create_dataset(hm, variance, step=2, correlation=False):\n",
    "    val = 1\n",
    "    ys = []\n",
    "    for i in range(hm):\n",
    "        y = val + random.randrange(-variance, variance)\n",
    "        ys.append(y)\n",
    "        if correlation and correlation == 'pos':\n",
    "            val+=step\n",
    "        elif correlation and correlation == 'neg':\n",
    "            val-= step\n",
    "            \n",
    "    xs = [i for i in range(len(ys))]\n",
    "    \n",
    "    return np.array(xs, dtype=np.float64),np.array(ys, dtype=np.float64)\n"
   ]
  },
  {
   "cell_type": "code",
   "execution_count": 27,
   "metadata": {},
   "outputs": [],
   "source": [
    "xs, ys = create_dataset(40, 10,2, correlation='pos')"
   ]
  },
  {
   "cell_type": "markdown",
   "metadata": {},
   "source": [
    "#### Calculate the best fit slope  and best fit line"
   ]
  },
  {
   "cell_type": "code",
   "execution_count": 28,
   "metadata": {},
   "outputs": [],
   "source": [
    "\n",
    "def best_fit_slope_and_intercept(xs,ys):\n",
    "    #m is the slope \n",
    "    #m =((mean of x * mean of y) - mean of (x* y) ) / (( (mean of x) * (mean of x)) - mean of (x*x))\n",
    "    m = ( ((mean(xs) * mean(ys))  - mean(xs*ys)) / (mean(xs)*mean(xs) - mean(xs*xs)))\n",
    "    \n",
    "    #b = (mean of y) - m(mean of x)\n",
    "    b = mean(ys) - m*mean(xs)\n",
    "    \n",
    "    return m, b"
   ]
  },
  {
   "cell_type": "code",
   "execution_count": 29,
   "metadata": {},
   "outputs": [],
   "source": [
    "#function to determine squared error\n",
    "def squared_error(ys_orig, ys_line):\n",
    "    return sum((ys_line - ys_orig )**2)\n"
   ]
  },
  {
   "cell_type": "code",
   "execution_count": 1,
   "metadata": {},
   "outputs": [],
   "source": [
    "#function to determine coeffient of determination\n",
    "\n",
    "def coefficient_of_determination(ys_orig, ys_line):\n",
    "    y_mean_line = [mean(ys_orig) for y in ys_orig]\n",
    "    \n",
    "    squared_error_regr = squared_error(ys_orig, ys_line)\n",
    "    squared_error_y_mean= squared_error(ys_orig, y_mean_line)\n",
    "    \n",
    "    return 1 - (squared_error_regr / squared_error_y_mean)"
   ]
  },
  {
   "cell_type": "code",
   "execution_count": 31,
   "metadata": {},
   "outputs": [
    {
     "name": "stdout",
     "output_type": "stream",
     "text": [
      "best fit slope: 1.9736397748592867\n",
      "best fit line: 1.889024390243911\n"
     ]
    }
   ],
   "source": [
    "m, b = best_fit_slope_and_intercept(xs,ys)\n",
    "print(\"best fit slope:\",m)\n",
    "print(\"best fit line:\",b)"
   ]
  },
  {
   "cell_type": "code",
   "execution_count": 32,
   "metadata": {},
   "outputs": [
    {
     "name": "stdout",
     "output_type": "stream",
     "text": [
      "[1.889024390243911, 3.8626641651031974, 5.836303939962484, 7.809943714821771, 9.783583489681057, 11.757223264540345, 13.730863039399631, 15.704502814258918, 17.678142589118202, 19.651782363977492, 21.62542213883678, 23.599061913696065, 25.57270168855535, 27.546341463414638, 29.519981238273925, 31.49362101313321, 33.4672607879925, 35.44090056285179, 37.414540337711074, 39.38818011257036, 41.36181988742965, 43.33545966228893, 45.30909943714822, 47.282739212007506, 49.25637898686679, 51.23001876172608, 53.203658536585365, 55.17729831144465, 57.15093808630394, 59.124577861163225, 61.09821763602251, 63.0718574108818, 65.04549718574108, 67.01913696060038, 68.99277673545967, 70.96641651031894, 72.94005628517823, 74.91369606003752, 76.88733583489682, 78.86097560975608]\n"
     ]
    },
    {
     "data": {
      "text/plain": [
       "[<matplotlib.lines.Line2D at 0x85c5c88>]"
      ]
     },
     "execution_count": 32,
     "metadata": {},
     "output_type": "execute_result"
    },
    {
     "data": {
      "image/png": "[encoded data removed]",
      "text/plain": [
       "<matplotlib.figure.Figure at 0x80d64a8>"
      ]
     },
     "metadata": {},
     "output_type": "display_data"
    }
   ],
   "source": [
    "regression_line = [(m*x) + b for x in xs]\n",
    "print(regression_line)\n",
    "\n",
    "plt.scatter(xs,ys)\n",
    "plt.plot(xs,regression_line)\n",
    "\n"
   ]
  },
  {
   "cell_type": "code",
   "execution_count": 33,
   "metadata": {},
   "outputs": [
    {
     "name": "stdout",
     "output_type": "stream",
     "text": [
      "r_squared: 0.9235068411799665\n"
     ]
    }
   ],
   "source": [
    "r_squared = coefficient_of_determination(ys, regression_line)\n",
    "print(\"r_squared:\",r_squared)"
   ]
  },
  {
   "cell_type": "markdown",
   "metadata": {},
   "source": [
    "#### do some prediction"
   ]
  },
  {
   "cell_type": "code",
   "execution_count": 26,
   "metadata": {},
   "outputs": [
    {
     "name": "stdout",
     "output_type": "stream",
     "text": [
      "[37.511069418386484, 39.15178236397749, 40.79249530956848, 42.43320825515947, 44.073921200750476, 45.71463414634147]\n"
     ]
    },
    {
     "data": {
      "text/plain": [
       "[<matplotlib.lines.Line2D at 0x8540d30>]"
      ]
     },
     "execution_count": 26,
     "metadata": {},
     "output_type": "execute_result"
    },
    {
     "data": {
      "image/png": "[encoded data removed]",
      "text/plain": [
       "<matplotlib.figure.Figure at 0x8540da0>"
      ]
     },
     "metadata": {},
     "output_type": "display_data"
    }
   ],
   "source": [
    "x_values =np.array([21,22,23,24,25,26])\n",
    "\n",
    "prediction_y = [(m*x) + b for x in x_values]\n",
    "\n",
    "print(prediction_y)\n",
    "plt.scatter(x_values,prediction_y)\n",
    "plt.plot(x_values,prediction_y)"
   ]
  },
  {
   "cell_type": "code",
   "execution_count": null,
   "metadata": {},
   "outputs": [],
   "source": []
  }
 ],
 "metadata": {
  "kernelspec": {
   "display_name": "Python 3",
   "language": "python",
   "name": "python3"
  },
  "language_info": {
   "codemirror_mode": {
    "name": "ipython",
    "version": 3
   },
   "file_extension": ".py",
   "mimetype": "text/x-python",
   "name": "python",
   "nbconvert_exporter": "python",
   "pygments_lexer": "ipython3",
   "version": "3.6.4"
  }
 },
 "nbformat": 4,
 "nbformat_minor": 2
}
