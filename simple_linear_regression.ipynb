{
 "cells": [
  {
   "cell_type": "code",
   "execution_count": 21,
   "metadata": {},
   "outputs": [],
   "source": [
    "#import modules\n",
    "from sklearn import linear_model \n",
    "import matplotlib.pyplot as plt "
   ]
  },
  {
   "cell_type": "code",
   "execution_count": 22,
   "metadata": {},
   "outputs": [
    {
     "name": "stdout",
     "output_type": "stream",
     "text": [
      "height  weight\n",
      "4.0 -> 42\n",
      "4.5 -> 44\n",
      "5.0 -> 49\n",
      "5.2 -> 55\n",
      "5.4 -> 53\n",
      "5.8 -> 58\n",
      "6.1 -> 60\n",
      "6.2 -> 64\n",
      "6.4 -> 66\n",
      "6.8 -> 69\n"
     ]
    }
   ],
   "source": [
    "#data of height and weight of some people\n",
    "\n",
    "height=[[4.0],[4.5],[5.0],[5.2],[5.4],[5.8],[6.1],[6.2],[6.4],[6.8]]\n",
    "weight=[  42 ,  44 , 49, 55  , 53  , 58   , 60  , 64  ,  66 ,  69]\n",
    "\n",
    "print(\"height  weight\")\n",
    "\n",
    "for row in zip(height, weight):\n",
    "    print(row[0][0],\"->\",row[1])"
   ]
  },
  {
   "cell_type": "code",
   "execution_count": 23,
   "metadata": {},
   "outputs": [
    {
     "data": {
      "text/plain": [
       "Text(0,0.5,'weight')"
      ]
     },
     "execution_count": 23,
     "metadata": {},
     "output_type": "execute_result"
    },
    {
     "data": {
      "image/png": "[encoded data removed]",
      "text/plain": [
       "<matplotlib.figure.Figure at 0xb3829b0>"
      ]
     },
     "metadata": {},
     "output_type": "display_data"
    }
   ],
   "source": [
    "#Plotting the height and weight data \n",
    "plt.scatter(height,weight,color=\"black\")\n",
    "plt.title(\"Height vs Weight\")\n",
    "plt.xlabel(\"height\")\n",
    "plt.ylabel(\"weight\")"
   ]
  },
  {
   "cell_type": "code",
   "execution_count": 24,
   "metadata": {},
   "outputs": [
    {
     "data": {
      "text/plain": [
       "LinearRegression(copy_X=True, fit_intercept=True, n_jobs=1, normalize=False)"
      ]
     },
     "execution_count": 24,
     "metadata": {},
     "output_type": "execute_result"
    }
   ],
   "source": [
    "#Declare a linear regression function \n",
    "reg = linear_model.LinearRegression()\n",
    "reg.fit(height,weight)"
   ]
  },
  {
   "cell_type": "code",
   "execution_count": 25,
   "metadata": {},
   "outputs": [
    {
     "name": "stdout",
     "output_type": "stream",
     "text": [
      "slope is  10.193621867881548\n",
      "Intercept is -0.4726651480637756\n"
     ]
    }
   ],
   "source": [
    "#Determine Slope and Intercept \n",
    "slope = reg.coef_[0]\n",
    "intercept = reg.intercept_\n",
    "print(\"slope is \",slope)\n",
    "print(\"Intercept is\",intercept)"
   ]
  },
  {
   "cell_type": "code",
   "execution_count": 27,
   "metadata": {},
   "outputs": [
    {
     "data": {
      "text/plain": [
       "Text(0,0.5,'weight')"
      ]
     },
     "execution_count": 27,
     "metadata": {},
     "output_type": "execute_result"
    },
    {
     "data": {
      "image/png": "[encoded data removed]",
      "text/plain": [
       "<matplotlib.figure.Figure at 0xb382e80>"
      ]
     },
     "metadata": {},
     "output_type": "display_data"
    }
   ],
   "source": [
    "#Using the values of slope and intercept to construct the line to fit our data points \n",
    "plt.scatter(height,weight,color=\"black\")\n",
    "predicted_values = [reg.coef_ * i + reg.intercept_ for i in height]\n",
    "plt.plot(height,predicted_values, 'b')\n",
    "plt.xlabel(\"height\")\n",
    "plt.ylabel(\"weight\")"
   ]
  },
  {
   "cell_type": "code",
   "execution_count": null,
   "metadata": {},
   "outputs": [],
   "source": []
  }
 ],
 "metadata": {
  "kernelspec": {
   "display_name": "Python 3",
   "language": "python",
   "name": "python3"
  },
  "language_info": {
   "codemirror_mode": {
    "name": "ipython",
    "version": 3
   },
   "file_extension": ".py",
   "mimetype": "text/x-python",
   "name": "python",
   "nbconvert_exporter": "python",
   "pygments_lexer": "ipython3",
   "version": "3.6.4"
  }
 },
 "nbformat": 4,
 "nbformat_minor": 2
}
